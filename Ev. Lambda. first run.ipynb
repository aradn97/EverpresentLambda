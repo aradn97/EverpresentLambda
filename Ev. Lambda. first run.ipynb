{
 "cells": [
  {
   "cell_type": "code",
   "execution_count": 1,
   "metadata": {},
   "outputs": [],
   "source": [
    "import numpy as np\n",
    "import random as rnd\n",
    "import matplotlib.pyplot as plt\n",
    "import scipy.integrate as integrate\n",
    "import time\n",
    "import mpmath as mp\n",
    "from mpmath import *"
   ]
  },
  {
   "cell_type": "code",
   "execution_count": null,
   "metadata": {},
   "outputs": [],
   "source": []
  },
  {
   "cell_type": "code",
   "execution_count": 2,
   "metadata": {},
   "outputs": [],
   "source": [
    "def rombint(func,  a,  b,  tol):  #trapezoid approx to integral of func in interval a,b\n",
    "\n",
    "    MAXJ=5 \n",
    "    MAXITER=30\n",
    "    g=np.zeros(MAXJ+1)\n",
    "        \n",
    "    h=0.5*(b-a)\n",
    "    gmax=h*(func(a)+func(b))  #first trapezoid approx to integral of func in interval [a,b]\n",
    "    g[0]=gmax\n",
    "    nint=1\n",
    "    error=10**20\n",
    "    i=0\n",
    "    \n",
    "    while not((i > MAXITER) | ((i > 5) & (abs(error) < tol))):\n",
    "        \n",
    "                #   Calculate next trapezoidal rule approximation to integral\n",
    "        g0=0.0\n",
    "        for k in range (1,nint+1):\n",
    "            g0+=func((a+(k+k-1)*h))\n",
    "\n",
    "            \n",
    "        g0=0.5*g[0]+h*g0;\n",
    "        h=0.5*h;\n",
    "        nint*=2;\n",
    "        if (i<MAXJ):\n",
    "            jmax=i\n",
    "        else:\n",
    "            jmax=MAXJ\n",
    "            \n",
    "        fourj=1.;\n",
    "\n",
    "        for j in range(jmax+1):\n",
    "        # Use Richardson extrapolation. */\n",
    "            \n",
    "            fourj*=4.0;\n",
    "            g1=g0+(g0-g[j-1])/(fourj-1.0);\n",
    "            g[j-1]=g0;\n",
    "            g0=g1;\n",
    "            \n",
    "\n",
    "            \n",
    "        if (abs(g0) > tol): #1.e-30 \n",
    "            error=1.0-gmax/g0;\n",
    "            \n",
    "        else:\n",
    "            error=gmax; \n",
    "        gmax=g0;\n",
    "        g[jmax]=g0;\n",
    "        i=i+1\n",
    "\n",
    "        \n",
    "        \n",
    "    if ((i > MAXITER) & (abs(error) > tol)):\n",
    "        print(\"rombint failed to converge; integral=%g, error=%g\\n\",g0,error);\n",
    "\n",
    "    return g0\n",
    "        \n"
   ]
  },
  {
   "cell_type": "code",
   "execution_count": 3,
   "metadata": {},
   "outputs": [],
   "source": [
    "def rombint2D(func, a, b, tol):#numerical integral of f(b,x)dx at [a,b]\n",
    "    \n",
    "    MAXJ=5; \n",
    "    MAXITER=30 \n",
    "    g=np.zeros(MAXJ+1)\n",
    "        \n",
    "    h=0.5*(b-a);\n",
    "    gmax=h*(func(a,b)+func(b,b));\n",
    "    g[0]=gmax;\n",
    "    nint=1;\n",
    "    error=1.e20;\n",
    "    i=0\n",
    "    while not((i > MAXITER) | ((i > 5) & (abs(error) < tol))):\n",
    "        \n",
    "           #     Calculate next trapezoidal rule approximation to integral. */\n",
    "        g0=0.0;\n",
    "        for k in range (1,1+nint):\n",
    "            g0+=func(a+(k+k-1)*h,b);\n",
    "\n",
    "            \n",
    "        g0=0.5*g[0]+h*g0;\n",
    "        h=0.5*h;\n",
    "        nint*=2;\n",
    "        if (i<MAXJ):\n",
    "            jmax=i\n",
    "        else:\n",
    "            jmax=MAXJ\n",
    "        fourj=1.;\n",
    "\n",
    "        for j in range (1,1+jmax):\n",
    "        # Use Richardson extrapolation. */\n",
    "        \n",
    "            fourj*=4.0;\n",
    "            g1=g0+(g0-g[j-1])/(fourj-1.0);\n",
    "            g[j-1]=g0;\n",
    "            g0=g1;\n",
    "            \n",
    "\n",
    "        \n",
    "        if (abs(g0) > tol): #1.e-30) \n",
    "            error=1.0-gmax/g0;\n",
    "            \n",
    "        else :\n",
    "                error=gmax; \n",
    "        gmax=g0;\n",
    "        g[jmax]=g0;\n",
    "        i+=1\n",
    "        \n",
    "        \n",
    "    if ((i > MAXITER) & (abs(error) > tol)):\n",
    "        printf(\"rombint failed to converge; integral=%g, error=%g\\n\",g0,error);\n",
    "\n",
    "    return g0;\n",
    "        "
   ]
  },
  {
   "cell_type": "code",
   "execution_count": null,
   "metadata": {},
   "outputs": [],
   "source": []
  },
  {
   "cell_type": "code",
   "execution_count": 4,
   "metadata": {},
   "outputs": [],
   "source": [
    "\n",
    "\n",
    "def rand_gauss (mu,sigma):\n",
    " \n",
    "    U1 = -1 + (rnd.random()) * 2;\n",
    "    U2 = -1 + (rnd.random()) * 2;\n",
    "    W = U1** 2 + U2** 2;\n",
    "    \n",
    "    while ((W >= 1) | (W == 0)):\n",
    "        U1 = -1 + (rnd.random()) * 2;\n",
    "        U2 = -1 + (rnd.random()) * 2;\n",
    "        W = pow (U1, 2) + pow (U2, 2);\n",
    " \n",
    "    mult = np.sqrt ((-2 * np.log(W)) / W);\n",
    "    X1 = U1 * mult;\n",
    "    X2 = U2 * mult;\n",
    " \n",
    "    \n",
    " \n",
    "    return mu + sigma * X1\n"
   ]
  },
  {
   "cell_type": "code",
   "execution_count": 5,
   "metadata": {},
   "outputs": [
    {
     "name": "stdout",
     "output_type": "stream",
     "text": [
      "--- 11.747929811477661 seconds ---\n"
     ]
    },
    {
     "data": {
      "image/png": "[encoded data removed]",
      "text/plain": [
       "<Figure size 432x288 with 1 Axes>"
      ]
     },
     "metadata": {
      "needs_background": "light"
     },
     "output_type": "display_data"
    }
   ],
   "source": [
    "start_time = time.time()\n",
    "aaa=np.zeros(1000000);    #test of rand_gauss with a histogram\n",
    "for i in range (1000000):\n",
    "    aaa[i]=rand_gauss(0,1);\n",
    "    \n",
    "np.histogram(aaa,50,(-5,5))[1]\n",
    "plt.scatter(np.histogram(aaa,50,(-5,5))[1][0:49],np.histogram(aaa,50,(-5,5))[0][0:49])\n",
    "print(\"--- %s seconds ---\" % (time.time() - start_time))"
   ]
  },
  {
   "cell_type": "code",
   "execution_count": 6,
   "metadata": {},
   "outputs": [
    {
     "name": "stdout",
     "output_type": "stream",
     "text": [
      "--- 4.295994758605957 seconds ---\n"
     ]
    },
    {
     "data": {
      "image/png": "[encoded data removed]",
      "text/plain": [
       "<Figure size 432x288 with 1 Axes>"
      ]
     },
     "metadata": {
      "needs_background": "light"
     },
     "output_type": "display_data"
    }
   ],
   "source": [
    "start_time = time.time()\n",
    "aaa=np.zeros(1000000);    #test of numpy random.normal with a histogram///This works faster\n",
    "for i in range (1000000):\n",
    "    aaa[i]=np.random.normal(0,1);\n",
    "    \n",
    "np.histogram(aaa,50,(-5,5))[1]\n",
    "plt.scatter(np.histogram(aaa,50,(-5,5))[1][0:49],np.histogram(aaa,50,(-5,5))[0][0:49])\n",
    "print(\"--- %s seconds ---\" % (time.time() - start_time))"
   ]
  },
  {
   "cell_type": "code",
   "execution_count": 7,
   "metadata": {},
   "outputs": [],
   "source": [
    "N_CST_Store=10000   #number of steps\n",
    "def omegaDyn(a):#finds omega_lambda*a^4\n",
    "\n",
    "    i=int(a*N_CST_Store)\n",
    "    return omegav_CST_Store[i] * pow(a, 4);"
   ]
  },
  {
   "cell_type": "code",
   "execution_count": null,
   "metadata": {},
   "outputs": [],
   "source": []
  },
  {
   "cell_type": "code",
   "execution_count": 8,
   "metadata": {},
   "outputs": [],
   "source": [
    "#public variables\n",
    "\n",
    "pi = 3.14159265\n",
    "h0 = 70.74; #hubble constant\n",
    "tcmb = 2.7254  #cmb temperature\n",
    "omegac = 0.2589;#cold dark matter energy density at present time\n",
    "omegab = 0.0486;# baryon energy density now: 8\\pi*G*\\rho_m^{(0)}/(3H0^2)\n",
    "omegak = 0.0;#curvature of FRW\n",
    "global omegav\n",
    "omegav = 0.6925; #dark energy ratio to critical density now: \\rho_lambda/H0^2\n",
    "omegan = 0.0;#neutrino energy density \n",
    "ndyn = 0;\n",
    "\n",
    "rhocr = 2.7754e11 * 1.989e30 * pow(h0/100.0,2);    #critical density in kg/(Mpc)^3\n",
    "alpha = 0.002  #the coefficient behind the normal random variable that is stochastically creating lambda\n",
    "\n",
    "\n",
    "toler=1.0e-4"
   ]
  },
  {
   "cell_type": "code",
   "execution_count": 9,
   "metadata": {},
   "outputs": [],
   "source": [
    "grhom = (3.3379e-11) * h0 * h0;   #this is 3H0^2/c^2 in Mpc^-2                              \n",
    "grhog = (1.4952e-13) * pow(tcmb, 4); #this is 8pi.G/(c^2) *(4sigma_B*T_present^4/c)/c^2 in Mpc^-2                     \n",
    "grhor = (3.3957e-14) * pow(tcmb, 4); # 7/8*(4/11)^(4/3)*grhog (per neutrino species) "
   ]
  },
  {
   "cell_type": "code",
   "execution_count": 10,
   "metadata": {},
   "outputs": [],
   "source": [
    "def CSTdtauda(a):#returns 1/(a^2H)=1/(a.da\\dt)=d\\eta/da\n",
    "    grho2 = grhom* (omegac + omegab) * a + grhog + grhom * omegaDyn(a);#this is RHS of 3a^4H^2 using Friedmann eq:\n",
    "        #3a^4H^2=3a^4H0^2* (H/H0)^2=3H0^2\\Omega_m^{(0)}a+3H0^2\\Omega_r^{(0)}+3H0^2\\Omega_L a^4\n",
    "    if (grho2<0):\n",
    "        print('Warning!!! Negative H^2 encountered')    \n",
    "    dtauda1 = np.sqrt(3.0 / grho2); #this is 1/(a^2H)\n",
    "\n",
    "    return (dtauda1);\n",
    "def CSTdtimeda(a): # returns dt/da\n",
    "\n",
    "    return a * CSTdtauda(a)\n",
    "\n",
    "    "
   ]
  },
  {
   "cell_type": "code",
   "execution_count": null,
   "metadata": {},
   "outputs": [],
   "source": []
  },
  {
   "cell_type": "code",
   "execution_count": null,
   "metadata": {},
   "outputs": [],
   "source": []
  },
  {
   "cell_type": "code",
   "execution_count": 11,
   "metadata": {},
   "outputs": [],
   "source": [
    "N_CST_Store=10000   #number of steps    !!!Take care before running this. it resets al histories!!!!!!!!\n",
    "\n",
    "a_CST_Store=np.zeros(N_CST_Store+1)  \n",
    "for i in range (0,N_CST_Store+1):\n",
    "    a_CST_Store[i] = i/10000.0;   #set equal steps for the scale factor\n",
    "tau_CST_Store=np.zeros(N_CST_Store+1)-999999999.9    # Set everything initially to -infty\n",
    "tau_CST_Store[0] = 0.0;\n",
    "time_CST_Store=np.zeros(N_CST_Store+1)\n",
    "omegav_CST_Store=np.zeros(N_CST_Store+1)"
   ]
  },
  {
   "cell_type": "code",
   "execution_count": 29,
   "metadata": {},
   "outputs": [],
   "source": [
    "\n",
    "def CSTCalctau(a): #wants to calculate \\eta(a)\n",
    "\n",
    "    i = np.int(np.round(a*N_CST_Store));#without round, there is some weird problem with the way python applies int\n",
    "    #for example, python says int((9/10000-1/10000)*N_CST_Store)=7, because it evaluates it as 7.999999 and not 8. ://\n",
    "    if (a > 1.0):\n",
    "        i = N_CST_Store;\n",
    "    if (a < 1.0e-8):   #our minimum resolution to big bang\n",
    "        return 0;\n",
    "    if( i < 0 ):\n",
    "        tau_CST_Store[0] = 0.0; \n",
    "        return 0.0;\n",
    "    \n",
    "    if( tau_CST_Store[i] < 0.0 ): #negative tau means that it is the default -999...9 value, so it's not been overwritten\n",
    "        if( tau_CST_Store[i-1] < 0 ): #if the previous tau hasn't been overwritten,too, then first overwrite the previous one\n",
    "            FAST_CSTCalctau( a - 1.0/N_CST_Store );\n",
    "        #tau_CST_Store[i] = tau_CST_Store[i-1] + rombint(CSTdtauda,a_CST_Store[i-1],a_CST_Store[i],toler); #using written integral calculator\n",
    "        tau_CST_Store[i] = tau_CST_Store[i-1] + integrate.quad(CSTdtauda,a_CST_Store[i-1],a_CST_Store[i])[0]; #using package for integral\n",
    "      \n",
    "    if (i==0):\n",
    "        i=1    #if i=0, then i-1 would bring the 10000th element of tau_CST_Store. so instead let's put i=1.\n",
    "    #return tau_CST_Store[i-1] + rombint(CSTdtauda, a_CST_Store[i-1], a, toler);\n",
    "    return tau_CST_Store[i-1] + integrate.quad(CSTdtauda, a_CST_Store[i-1], a)[0];\n",
    "\n",
    "def FAST_CSTCalctau(a): #wants to calculate \\eta(a), this doesn't return anything. only is here to rewrite tau_CST_Store\n",
    "\n",
    "    i = round(a*N_CST_Store);\n",
    "    if (a > 1.0):\n",
    "        i = N_CST_Store;\n",
    "    if (a < 1.0e-8):   #our minimum resolution to big bang\n",
    "        return 0;\n",
    "    if( i < 0 ):\n",
    "        tau_CST_Store[0] = 0.0; \n",
    "        return 0.0;\n",
    "    \n",
    "    if( tau_CST_Store[i] < 0.0 ): #negative tau means that it is the default -999...9 value, so it's not been overwritten\n",
    "        if( tau_CST_Store[i-1] < 0 ): #if the previous tau hasn't been overwritten,too, then first overwrite the previous one\n",
    "            FAST_CSTCalctau( a - 1.0/N_CST_Store );\n",
    "        #tau_CST_Store[i] = tau_CST_Store[i-1] + rombint(CSTdtauda,a_CST_Store[i-1],a_CST_Store[i],toler);\n",
    "        tau_CST_Store[i] = tau_CST_Store[i-1] + integrate.quad(CSTdtauda,a_CST_Store[i-1],a_CST_Store[i])[0];\n",
    "        "
   ]
  },
  {
   "cell_type": "code",
   "execution_count": 30,
   "metadata": {},
   "outputs": [],
   "source": [
    "#def g(a,b): #the integrand used for calculating dV/da\n",
    "#      return CSTdtimeda(b)*pow(b,3)*pow((CSTCalctau(a) - CSTCalctau(b)),2)\n",
    "\n",
    "\n",
    "#def CSTCalcVolume(a):  #going to calculate dV/da\n",
    "    \n",
    "#    dVda = (4*pi)*CSTdtauda(a)*rombint2D(g,0.0,a,1.0e-8);   \n",
    "#    return dVda\n",
    "\n",
    "def CSTCalcVolume(a,b):  #going to calculate dV. \n",
    "    dV=(4*pi/3)*pow(a,4) * pow(CSTCalctau(b) - CSTCalctau(a),3) * CSTdtauda(a)#if integrated on [0,b], with da, gives V(b)\n",
    "    return dV"
   ]
  },
  {
   "cell_type": "code",
   "execution_count": 65,
   "metadata": {},
   "outputs": [],
   "source": [
    "def main():\n",
    "\n",
    "    zeta = 1.0\n",
    "    presenttime=1.0;\n",
    "    c2oG = 4.1553e+49;  \n",
    "    global omegav\n",
    "    omegav = 0.0;    #I take the initial lambda value to be zero\n",
    "    \n",
    "    aold = 1.0e-8;\n",
    "    taurmtestold = 0.0;\n",
    "    dVoldaold = 0.0;\n",
    "    Volold = 0.0;\n",
    "    S=0.0;  \n",
    "    Sold = 0.0;\n",
    "    aold = 0.0; \n",
    "    timeold = 0.0;\n",
    "    temp_aold = 1.0e-8;\n",
    "    \n",
    "    a_CST_Store[0] = 1.0e-8;\n",
    "    tau_CST_Store[0] = 0.0;\n",
    "\n",
    "    for i in range (0,N_CST_Store+1):\n",
    "        a =float( i/N_CST_Store);\n",
    "        #time_CST_Store[i] = timeold + rombint(CSTdtimeda,aold,a,toler);\n",
    "        time_CST_Store[i] = timeold + integrate.quad(CSTdtimeda,aold,a)[0];\n",
    "\n",
    "        #Vol = rombint2D(CSTCalcVolume, 0.0, a, toler); #lower limit can be set 1.0e-8\n",
    "        b=a\n",
    "        #Vol = integrate.quad(CSTCalcVolume, 0.0, a, args=(b))[0];\n",
    "        N=int(b*N_CST_Store)\n",
    "        Vol=0.0\n",
    "        for j in range (N):\n",
    "            Vol+=integrate.quad(CSTCalcVolume, j/(N_CST_Store), (j+1)/(N_CST_Store), args=(b))[0]\n",
    "            #quad code goes wrong when there are lots of small bumps in a large interval. so i divided the interval to smaller segments\n",
    "        #print(Vol)\n",
    "        #zeta = rand_gauss(0,1);\n",
    "        zeta=np.random.normal(0,1)\n",
    "        S = (Sold + alpha * zeta * np.sqrt(Vol - Volold));\n",
    "        if (Vol<=0.0): #to avoid infinity at first step\n",
    "            rho=0\n",
    "        else:\n",
    "            rho = S/Vol;\n",
    "            # This rho is in (Mpc^-2)\n",
    "            # We need to multiply it with c^2/G to convert it to kg . Mpc^-3\n",
    "            # Mpc = 3.085678e22 m\n",
    "            # c^2/G = ( c^2 / G ) 3.085678e22 = 4.1553e+49 kg/Mpc\n",
    "\n",
    "        rho = rho * c2oG;\n",
    "\n",
    "        omegav = rho/rhocr;    #If its commented then it will give LCDM.\n",
    "        omegav_CST_Store[i]=omegav\n",
    "\n",
    "        Volold = Vol;\n",
    "        Sold = S;\n",
    "        aold = a;\n",
    "        timeold = time_CST_Store[i];\n",
    "        #the rest is for tracking the code during a run\n",
    "        print(a)\n",
    "        if (i>0):\n",
    "            H[i]=(a_CST_Store[i]-a_CST_Store[i-1])/(time_CST_Store[i]-time_CST_Store[i-1])/a_CST_Store[i]\n",
    "            OMEGA_L[i]=omegav_CST_Store[i]*(grhom/(3*H[i]**2))\n",
    "        if(i/10-int(i/10)<=0.0):\n",
    "            plt.scatter(time_CST_Store[0:i],OMEGA_L[0:i],s=2)\n",
    "            plt.show()\n",
    "\n"
   ]
  },
  {
   "cell_type": "code",
   "execution_count": 70,
   "metadata": {},
   "outputs": [],
   "source": [
    "H=np.zeros(N_CST_Store+1)#hubble constant\n",
    "OMEGA_L=np.zeros(N_CST_Store+1)#ratio of \\rho_L to H^2\n",
    "H[0]=0\n",
    "#for i in range (0,N_CST_Store):\n",
    "#    H[i]=(a_CST_Store[i+1]-a_CST_Store[i])/(time_CST_Store[i+1]-time_CST_Store[i])/a_CST_Store[i]\n",
    "#    OMEGA_L[i]=omegav_CST_Store[i]*(grhom/(3*H[i]**2))"
   ]
  },
  {
   "cell_type": "code",
   "execution_count": 71,
   "metadata": {},
   "outputs": [],
   "source": [
    "N_CST_Store=10000   #number of steps    !!!Take care before running this. it resets al histories!!!!!!!!\n",
    "\n",
    "a_CST_Store=np.zeros(N_CST_Store+1)  \n",
    "for i in range (0,N_CST_Store+1):\n",
    "    a_CST_Store[i] = i/10000.0;   #set equal steps for the scale factor\n",
    "tau_CST_Store=np.zeros(N_CST_Store+1)-999999999.9    # Set everything initially to -infty\n",
    "tau_CST_Store[0] = 0.0;\n",
    "time_CST_Store=np.zeros(N_CST_Store+1)\n",
    "omegav_CST_Store=np.zeros(N_CST_Store+1)"
   ]
  },
  {
   "cell_type": "code",
   "execution_count": 72,
   "metadata": {},
   "outputs": [
    {
     "name": "stdout",
     "output_type": "stream",
     "text": [
      "0.0\n"
     ]
    },
    {
     "data": {
      "image/png": "[encoded data removed]",
      "text/plain": [
       "<Figure size 432x288 with 1 Axes>"
      ]
     },
     "metadata": {
      "needs_background": "light"
     },
     "output_type": "display_data"
    },
    {
     "name": "stdout",
     "output_type": "stream",
     "text": [
      "0.0001\n",
      "0.0002\n",
      "0.0003\n",
      "0.0004\n",
      "0.0005\n",
      "0.0006\n",
      "0.0007\n",
      "0.0008\n",
      "0.0009\n",
      "0.001\n"
     ]
    },
    {
     "data": {
      "image/png": "[encoded data removed]",
      "text/plain": [
       "<Figure size 432x288 with 1 Axes>"
      ]
     },
     "metadata": {
      "needs_background": "light"
     },
     "output_type": "display_data"
    },
    {
     "name": "stdout",
     "output_type": "stream",
     "text": [
      "0.0011\n",
      "0.0012\n",
      "0.0013\n",
      "0.0014\n",
      "0.0015\n",
      "0.0016\n",
      "0.0017\n",
      "0.0018\n",
      "0.0019\n",
      "0.002\n"
     ]
    },
    {
     "data": {
      "image/png": "[encoded data removed]",
      "text/plain": [
       "<Figure size 432x288 with 1 Axes>"
      ]
     },
     "metadata": {
      "needs_background": "light"
     },
     "output_type": "display_data"
    },
    {
     "name": "stdout",
     "output_type": "stream",
     "text": [
      "0.0021\n",
      "0.0022\n",
      "0.0023\n",
      "0.0024\n",
      "0.0025\n",
      "0.0026\n",
      "0.0027\n",
      "0.0028\n",
      "0.0029\n",
      "0.003\n"
     ]
    },
    {
     "data": {
      "image/png": "[encoded data removed]",
      "text/plain": [
       "<Figure size 432x288 with 1 Axes>"
      ]
     },
     "metadata": {
      "needs_background": "light"
     },
     "output_type": "display_data"
    },
    {
     "name": "stdout",
     "output_type": "stream",
     "text": [
      "0.0031\n",
      "0.0032\n",
      "0.0033\n",
      "0.0034\n",
      "0.0035\n",
      "0.0036\n",
      "0.0037\n",
      "0.0038\n",
      "0.0039\n",
      "0.004\n"
     ]
    },
    {
     "data": {
      "image/png": "[encoded data removed]",
      "text/plain": [
       "<Figure size 432x288 with 1 Axes>"
      ]
     },
     "metadata": {
      "needs_background": "light"
     },
     "output_type": "display_data"
    },
    {
     "name": "stdout",
     "output_type": "stream",
     "text": [
      "0.0041\n",
      "0.0042\n",
      "0.0043\n",
      "0.0044\n",
      "0.0045\n",
      "0.0046\n",
      "0.0047\n",
      "0.0048\n",
      "0.0049\n",
      "0.005\n"
     ]
    },
    {
     "data": {
      "image/png": "[encoded data removed]",
      "text/plain": [
       "<Figure size 432x288 with 1 Axes>"
      ]
     },
     "metadata": {
      "needs_background": "light"
     },
     "output_type": "display_data"
    },
    {
     "name": "stdout",
     "output_type": "stream",
     "text": [
      "0.0051\n",
      "0.0052\n",
      "0.0053\n",
      "0.0054\n",
      "0.0055\n",
      "0.0056\n",
      "0.0057\n",
      "0.0058\n",
      "0.0059\n",
      "0.006\n"
     ]
    },
    {
     "data": {
      "image/png": "[encoded data removed]",
      "text/plain": [
       "<Figure size 432x288 with 1 Axes>"
      ]
     },
     "metadata": {
      "needs_background": "light"
     },
     "output_type": "display_data"
    },
    {
     "name": "stdout",
     "output_type": "stream",
     "text": [
      "0.0061\n",
      "0.0062\n",
      "0.0063\n",
      "0.0064\n",
      "0.0065\n",
      "0.0066\n",
      "0.0067\n",
      "0.0068\n",
      "0.0069\n",
      "0.007\n"
     ]
    },
    {
     "data": {
      "image/png": "[encoded data removed]",
      "text/plain": [
       "<Figure size 432x288 with 1 Axes>"
      ]
     },
     "metadata": {
      "needs_background": "light"
     },
     "output_type": "display_data"
    },
    {
     "name": "stdout",
     "output_type": "stream",
     "text": [
      "0.0071\n",
      "0.0072\n",
      "0.0073\n",
      "0.0074\n",
      "0.0075\n",
      "0.0076\n",
      "0.0077\n",
      "0.0078\n",
      "0.0079\n",
      "0.008\n"
     ]
    },
    {
     "data": {
      "image/png": "[encoded data removed]",
      "text/plain": [
       "<Figure size 432x288 with 1 Axes>"
      ]
     },
     "metadata": {
      "needs_background": "light"
     },
     "output_type": "display_data"
    },
    {
     "name": "stdout",
     "output_type": "stream",
     "text": [
      "0.0081\n",
      "0.0082\n",
      "0.0083\n",
      "0.0084\n",
      "0.0085\n",
      "0.0086\n",
      "0.0087\n",
      "0.0088\n",
      "0.0089\n",
      "0.009\n"
     ]
    },
    {
     "data": {
      "image/png": "[encoded data removed]",
      "text/plain": [
       "<Figure size 432x288 with 1 Axes>"
      ]
     },
     "metadata": {
      "needs_background": "light"
     },
     "output_type": "display_data"
    },
    {
     "name": "stdout",
     "output_type": "stream",
     "text": [
      "0.0091\n",
      "0.0092\n",
      "0.0093\n",
      "0.0094\n",
      "0.0095\n",
      "0.0096\n",
      "0.0097\n",
      "0.0098\n",
      "0.0099\n",
      "0.01\n"
     ]
    },
    {
     "data": {
      "image/png": "[encoded data removed]",
      "text/plain": [
       "<Figure size 432x288 with 1 Axes>"
      ]
     },
     "metadata": {
      "needs_background": "light"
     },
     "output_type": "display_data"
    },
    {
     "name": "stdout",
     "output_type": "stream",
     "text": [
      "0.0101\n",
      "0.0102\n",
      "0.0103\n",
      "0.0104\n",
      "0.0105\n",
      "0.0106\n",
      "0.0107\n",
      "0.0108\n",
      "0.0109\n",
      "0.011\n"
     ]
    },
    {
     "data": {
      "image/png": "[encoded data removed]",
      "text/plain": [
       "<Figure size 432x288 with 1 Axes>"
      ]
     },
     "metadata": {
      "needs_background": "light"
     },
     "output_type": "display_data"
    },
    {
     "name": "stdout",
     "output_type": "stream",
     "text": [
      "0.0111\n",
      "0.0112\n",
      "0.0113\n",
      "0.0114\n",
      "0.0115\n",
      "0.0116\n",
      "0.0117\n",
      "0.0118\n",
      "0.0119\n",
      "0.012\n"
     ]
    },
    {
     "data": {
      "image/png": "[encoded data removed]",
      "text/plain": [
       "<Figure size 432x288 with 1 Axes>"
      ]
     },
     "metadata": {
      "needs_background": "light"
     },
     "output_type": "display_data"
    },
    {
     "name": "stdout",
     "output_type": "stream",
     "text": [
      "0.0121\n",
      "0.0122\n",
      "0.0123\n",
      "0.0124\n",
      "0.0125\n",
      "0.0126\n",
      "0.0127\n",
      "0.0128\n",
      "0.0129\n",
      "0.013\n"
     ]
    },
    {
     "data": {
      "image/png": "[encoded data removed]",
      "text/plain": [
       "<Figure size 432x288 with 1 Axes>"
      ]
     },
     "metadata": {
      "needs_background": "light"
     },
     "output_type": "display_data"
    },
    {
     "name": "stdout",
     "output_type": "stream",
     "text": [
      "0.0131\n",
      "0.0132\n",
      "0.0133\n",
      "0.0134\n",
      "0.0135\n",
      "0.0136\n",
      "0.0137\n",
      "0.0138\n",
      "0.0139\n",
      "0.014\n"
     ]
    },
    {
     "data": {
      "image/png": "[encoded data removed]",
      "text/plain": [
       "<Figure size 432x288 with 1 Axes>"
      ]
     },
     "metadata": {
      "needs_background": "light"
     },
     "output_type": "display_data"
    },
    {
     "name": "stdout",
     "output_type": "stream",
     "text": [
      "0.0141\n",
      "0.0142\n",
      "0.0143\n",
      "0.0144\n",
      "0.0145\n",
      "0.0146\n",
      "0.0147\n",
      "0.0148\n",
      "0.0149\n",
      "0.015\n"
     ]
    },
    {
     "data": {
      "image/png": "[encoded data removed]",
      "text/plain": [
       "<Figure size 432x288 with 1 Axes>"
      ]
     },
     "metadata": {
      "needs_background": "light"
     },
     "output_type": "display_data"
    },
    {
     "name": "stdout",
     "output_type": "stream",
     "text": [
      "0.0151\n",
      "0.0152\n",
      "0.0153\n",
      "0.0154\n",
      "0.0155\n",
      "0.0156\n",
      "0.0157\n",
      "0.0158\n",
      "0.0159\n",
      "0.016\n"
     ]
    },
    {
     "data": {
      "image/png": "[encoded data removed]",
      "text/plain": [
       "<Figure size 432x288 with 1 Axes>"
      ]
     },
     "metadata": {
      "needs_background": "light"
     },
     "output_type": "display_data"
    },
    {
     "name": "stdout",
     "output_type": "stream",
     "text": [
      "0.0161\n",
      "0.0162\n",
      "0.0163\n",
      "0.0164\n",
      "0.0165\n",
      "0.0166\n",
      "0.0167\n",
      "0.0168\n",
      "0.0169\n",
      "0.017\n"
     ]
    },
    {
     "data": {
      "image/png": "[encoded data removed]",
      "text/plain": [
       "<Figure size 432x288 with 1 Axes>"
      ]
     },
     "metadata": {
      "needs_background": "light"
     },
     "output_type": "display_data"
    },
    {
     "name": "stdout",
     "output_type": "stream",
     "text": [
      "0.0171\n",
      "0.0172\n",
      "0.0173\n",
      "0.0174\n",
      "0.0175\n",
      "0.0176\n",
      "0.0177\n",
      "0.0178\n",
      "0.0179\n",
      "0.018\n"
     ]
    },
    {
     "data": {
      "image/png": "[encoded data removed]",
      "text/plain": [
       "<Figure size 432x288 with 1 Axes>"
      ]
     },
     "metadata": {
      "needs_background": "light"
     },
     "output_type": "display_data"
    },
    {
     "name": "stdout",
     "output_type": "stream",
     "text": [
      "0.0181\n",
      "0.0182\n",
      "0.0183\n",
      "0.0184\n",
      "0.0185\n",
      "0.0186\n",
      "0.0187\n",
      "0.0188\n",
      "0.0189\n",
      "0.019\n"
     ]
    },
    {
     "data": {
      "image/png": "[encoded data removed]",
      "text/plain": [
       "<Figure size 432x288 with 1 Axes>"
      ]
     },
     "metadata": {
      "needs_background": "light"
     },
     "output_type": "display_data"
    },
    {
     "name": "stdout",
     "output_type": "stream",
     "text": [
      "0.0191\n",
      "0.0192\n",
      "0.0193\n",
      "0.0194\n",
      "0.0195\n",
      "0.0196\n",
      "0.0197\n",
      "0.0198\n",
      "0.0199\n",
      "0.02\n"
     ]
    },
    {
     "data": {
      "image/png": "[encoded data removed]",
      "text/plain": [
       "<Figure size 432x288 with 1 Axes>"
      ]
     },
     "metadata": {
      "needs_background": "light"
     },
     "output_type": "display_data"
    },
    {
     "name": "stdout",
     "output_type": "stream",
     "text": [
      "0.0201\n",
      "0.0202\n",
      "0.0203\n",
      "0.0204\n",
      "0.0205\n",
      "0.0206\n",
      "0.0207\n",
      "0.0208\n",
      "0.0209\n",
      "0.021\n"
     ]
    },
    {
     "data": {
      "image/png": "[encoded data removed]",
      "text/plain": [
       "<Figure size 432x288 with 1 Axes>"
      ]
     },
     "metadata": {
      "needs_background": "light"
     },
     "output_type": "display_data"
    },
    {
     "name": "stdout",
     "output_type": "stream",
     "text": [
      "0.0211\n",
      "0.0212\n",
      "0.0213\n",
      "0.0214\n",
      "0.0215\n",
      "0.0216\n",
      "0.0217\n",
      "0.0218\n",
      "0.0219\n",
      "0.022\n"
     ]
    },
    {
     "data": {
      "image/png": "[encoded data removed]",
      "text/plain": [
       "<Figure size 432x288 with 1 Axes>"
      ]
     },
     "metadata": {
      "needs_background": "light"
     },
     "output_type": "display_data"
    },
    {
     "name": "stdout",
     "output_type": "stream",
     "text": [
      "0.0221\n",
      "0.0222\n",
      "0.0223\n",
      "0.0224\n",
      "0.0225\n",
      "0.0226\n",
      "0.0227\n",
      "0.0228\n",
      "0.0229\n",
      "0.023\n"
     ]
    },
    {
     "data": {
      "image/png": "[encoded data removed]",
      "text/plain": [
       "<Figure size 432x288 with 1 Axes>"
      ]
     },
     "metadata": {
      "needs_background": "light"
     },
     "output_type": "display_data"
    },
    {
     "name": "stdout",
     "output_type": "stream",
     "text": [
      "0.0231\n",
      "0.0232\n",
      "0.0233\n",
      "0.0234\n",
      "0.0235\n",
      "0.0236\n",
      "0.0237\n",
      "0.0238\n",
      "0.0239\n",
      "0.024\n"
     ]
    },
    {
     "data": {
      "image/png": "[encoded data removed]",
      "text/plain": [
       "<Figure size 432x288 with 1 Axes>"
      ]
     },
     "metadata": {
      "needs_background": "light"
     },
     "output_type": "display_data"
    },
    {
     "name": "stdout",
     "output_type": "stream",
     "text": [
      "0.0241\n",
      "0.0242\n",
      "0.0243\n",
      "0.0244\n",
      "0.0245\n",
      "0.0246\n",
      "0.0247\n",
      "0.0248\n",
      "0.0249\n",
      "0.025\n"
     ]
    },
    {
     "data": {
      "image/png": "[encoded data removed]",
      "text/plain": [
       "<Figure size 432x288 with 1 Axes>"
      ]
     },
     "metadata": {
      "needs_background": "light"
     },
     "output_type": "display_data"
    },
    {
     "name": "stdout",
     "output_type": "stream",
     "text": [
      "0.0251\n",
      "0.0252\n",
      "0.0253\n",
      "0.0254\n",
      "0.0255\n",
      "0.0256\n",
      "0.0257\n",
      "0.0258\n",
      "0.0259\n",
      "0.026\n"
     ]
    },
    {
     "data": {
      "image/png": "[encoded data removed]",
      "text/plain": [
       "<Figure size 432x288 with 1 Axes>"
      ]
     },
     "metadata": {
      "needs_background": "light"
     },
     "output_type": "display_data"
    },
    {
     "name": "stdout",
     "output_type": "stream",
     "text": [
      "0.0261\n",
      "0.0262\n",
      "0.0263\n",
      "0.0264\n",
      "0.0265\n",
      "0.0266\n",
      "0.0267\n",
      "0.0268\n",
      "0.0269\n",
      "0.027\n"
     ]
    },
    {
     "data": {
      "image/png": "[encoded data removed]",
      "text/plain": [
       "<Figure size 432x288 with 1 Axes>"
      ]
     },
     "metadata": {
      "needs_background": "light"
     },
     "output_type": "display_data"
    },
    {
     "name": "stdout",
     "output_type": "stream",
     "text": [
      "0.0271\n",
      "0.0272\n",
      "0.0273\n",
      "0.0274\n",
      "0.0275\n",
      "0.0276\n",
      "0.0277\n",
      "0.0278\n",
      "0.0279\n",
      "0.028\n"
     ]
    },
    {
     "data": {
      "image/png": "[encoded data removed]",
      "text/plain": [
       "<Figure size 432x288 with 1 Axes>"
      ]
     },
     "metadata": {
      "needs_background": "light"
     },
     "output_type": "display_data"
    },
    {
     "name": "stdout",
     "output_type": "stream",
     "text": [
      "0.0281\n",
      "0.0282\n"
     ]
    },
    {
     "ename": "KeyboardInterrupt",
     "evalue": "",
     "output_type": "error",
     "traceback": [
      "\u001b[1;31m---------------------------------------------------------------------------\u001b[0m",
      "\u001b[1;31mKeyboardInterrupt\u001b[0m                         Traceback (most recent call last)",
      "\u001b[1;32m<ipython-input-72-263240bbee7e>\u001b[0m in \u001b[0;36m<module>\u001b[1;34m\u001b[0m\n\u001b[1;32m----> 1\u001b[1;33m \u001b[0mmain\u001b[0m\u001b[1;33m(\u001b[0m\u001b[1;33m)\u001b[0m\u001b[1;33m\u001b[0m\u001b[1;33m\u001b[0m\u001b[0m\n\u001b[0m",
      "\u001b[1;32m<ipython-input-65-3784813282eb>\u001b[0m in \u001b[0;36mmain\u001b[1;34m()\u001b[0m\n\u001b[0;32m     31\u001b[0m         \u001b[0mVol\u001b[0m\u001b[1;33m=\u001b[0m\u001b[1;36m0.0\u001b[0m\u001b[1;33m\u001b[0m\u001b[1;33m\u001b[0m\u001b[0m\n\u001b[0;32m     32\u001b[0m         \u001b[1;32mfor\u001b[0m \u001b[0mj\u001b[0m \u001b[1;32min\u001b[0m \u001b[0mrange\u001b[0m \u001b[1;33m(\u001b[0m\u001b[0mN\u001b[0m\u001b[1;33m)\u001b[0m\u001b[1;33m:\u001b[0m\u001b[1;33m\u001b[0m\u001b[1;33m\u001b[0m\u001b[0m\n\u001b[1;32m---> 33\u001b[1;33m             \u001b[0mVol\u001b[0m\u001b[1;33m+=\u001b[0m\u001b[0mintegrate\u001b[0m\u001b[1;33m.\u001b[0m\u001b[0mquad\u001b[0m\u001b[1;33m(\u001b[0m\u001b[0mCSTCalcVolume\u001b[0m\u001b[1;33m,\u001b[0m \u001b[0mj\u001b[0m\u001b[1;33m/\u001b[0m\u001b[1;33m(\u001b[0m\u001b[0mN_CST_Store\u001b[0m\u001b[1;33m)\u001b[0m\u001b[1;33m,\u001b[0m \u001b[1;33m(\u001b[0m\u001b[0mj\u001b[0m\u001b[1;33m+\u001b[0m\u001b[1;36m1\u001b[0m\u001b[1;33m)\u001b[0m\u001b[1;33m/\u001b[0m\u001b[1;33m(\u001b[0m\u001b[0mN_CST_Store\u001b[0m\u001b[1;33m)\u001b[0m\u001b[1;33m,\u001b[0m \u001b[0margs\u001b[0m\u001b[1;33m=\u001b[0m\u001b[1;33m(\u001b[0m\u001b[0mb\u001b[0m\u001b[1;33m)\u001b[0m\u001b[1;33m)\u001b[0m\u001b[1;33m[\u001b[0m\u001b[1;36m0\u001b[0m\u001b[1;33m]\u001b[0m\u001b[1;33m\u001b[0m\u001b[1;33m\u001b[0m\u001b[0m\n\u001b[0m\u001b[0;32m     34\u001b[0m             \u001b[1;31m#quad code goes wrong when there are lots of small bumps in a large interval. so i divided the interval to smaller segments\u001b[0m\u001b[1;33m\u001b[0m\u001b[1;33m\u001b[0m\u001b[1;33m\u001b[0m\u001b[0m\n\u001b[0;32m     35\u001b[0m         \u001b[1;31m#print(Vol)\u001b[0m\u001b[1;33m\u001b[0m\u001b[1;33m\u001b[0m\u001b[1;33m\u001b[0m\u001b[0m\n",
      "\u001b[1;32mE:\\Anaconda\\lib\\site-packages\\scipy\\integrate\\quadpack.py\u001b[0m in \u001b[0;36mquad\u001b[1;34m(func, a, b, args, full_output, epsabs, epsrel, limit, points, weight, wvar, wopts, maxp1, limlst)\u001b[0m\n\u001b[0;32m    339\u001b[0m     \u001b[1;32mif\u001b[0m \u001b[0mweight\u001b[0m \u001b[1;32mis\u001b[0m \u001b[1;32mNone\u001b[0m\u001b[1;33m:\u001b[0m\u001b[1;33m\u001b[0m\u001b[1;33m\u001b[0m\u001b[0m\n\u001b[0;32m    340\u001b[0m         retval = _quad(func, a, b, args, full_output, epsabs, epsrel, limit,\n\u001b[1;32m--> 341\u001b[1;33m                        points)\n\u001b[0m\u001b[0;32m    342\u001b[0m     \u001b[1;32melse\u001b[0m\u001b[1;33m:\u001b[0m\u001b[1;33m\u001b[0m\u001b[1;33m\u001b[0m\u001b[0m\n\u001b[0;32m    343\u001b[0m         retval = _quad_weight(func, a, b, args, full_output, epsabs, epsrel,\n",
      "\u001b[1;32mE:\\Anaconda\\lib\\site-packages\\scipy\\integrate\\quadpack.py\u001b[0m in \u001b[0;36m_quad\u001b[1;34m(func, a, b, args, full_output, epsabs, epsrel, limit, points)\u001b[0m\n\u001b[0;32m    446\u001b[0m     \u001b[1;32mif\u001b[0m \u001b[0mpoints\u001b[0m \u001b[1;32mis\u001b[0m \u001b[1;32mNone\u001b[0m\u001b[1;33m:\u001b[0m\u001b[1;33m\u001b[0m\u001b[1;33m\u001b[0m\u001b[0m\n\u001b[0;32m    447\u001b[0m         \u001b[1;32mif\u001b[0m \u001b[0minfbounds\u001b[0m \u001b[1;33m==\u001b[0m \u001b[1;36m0\u001b[0m\u001b[1;33m:\u001b[0m\u001b[1;33m\u001b[0m\u001b[1;33m\u001b[0m\u001b[0m\n\u001b[1;32m--> 448\u001b[1;33m             \u001b[1;32mreturn\u001b[0m \u001b[0m_quadpack\u001b[0m\u001b[1;33m.\u001b[0m\u001b[0m_qagse\u001b[0m\u001b[1;33m(\u001b[0m\u001b[0mfunc\u001b[0m\u001b[1;33m,\u001b[0m\u001b[0ma\u001b[0m\u001b[1;33m,\u001b[0m\u001b[0mb\u001b[0m\u001b[1;33m,\u001b[0m\u001b[0margs\u001b[0m\u001b[1;33m,\u001b[0m\u001b[0mfull_output\u001b[0m\u001b[1;33m,\u001b[0m\u001b[0mepsabs\u001b[0m\u001b[1;33m,\u001b[0m\u001b[0mepsrel\u001b[0m\u001b[1;33m,\u001b[0m\u001b[0mlimit\u001b[0m\u001b[1;33m)\u001b[0m\u001b[1;33m\u001b[0m\u001b[1;33m\u001b[0m\u001b[0m\n\u001b[0m\u001b[0;32m    449\u001b[0m         \u001b[1;32melse\u001b[0m\u001b[1;33m:\u001b[0m\u001b[1;33m\u001b[0m\u001b[1;33m\u001b[0m\u001b[0m\n\u001b[0;32m    450\u001b[0m             \u001b[1;32mreturn\u001b[0m \u001b[0m_quadpack\u001b[0m\u001b[1;33m.\u001b[0m\u001b[0m_qagie\u001b[0m\u001b[1;33m(\u001b[0m\u001b[0mfunc\u001b[0m\u001b[1;33m,\u001b[0m\u001b[0mbound\u001b[0m\u001b[1;33m,\u001b[0m\u001b[0minfbounds\u001b[0m\u001b[1;33m,\u001b[0m\u001b[0margs\u001b[0m\u001b[1;33m,\u001b[0m\u001b[0mfull_output\u001b[0m\u001b[1;33m,\u001b[0m\u001b[0mepsabs\u001b[0m\u001b[1;33m,\u001b[0m\u001b[0mepsrel\u001b[0m\u001b[1;33m,\u001b[0m\u001b[0mlimit\u001b[0m\u001b[1;33m)\u001b[0m\u001b[1;33m\u001b[0m\u001b[1;33m\u001b[0m\u001b[0m\n",
      "\u001b[1;32m<ipython-input-30-cfcd744bddcf>\u001b[0m in \u001b[0;36mCSTCalcVolume\u001b[1;34m(a, b)\u001b[0m\n\u001b[0;32m      9\u001b[0m \u001b[1;33m\u001b[0m\u001b[0m\n\u001b[0;32m     10\u001b[0m \u001b[1;32mdef\u001b[0m \u001b[0mCSTCalcVolume\u001b[0m\u001b[1;33m(\u001b[0m\u001b[0ma\u001b[0m\u001b[1;33m,\u001b[0m\u001b[0mb\u001b[0m\u001b[1;33m)\u001b[0m\u001b[1;33m:\u001b[0m  \u001b[1;31m#going to calculate dV.\u001b[0m\u001b[1;33m\u001b[0m\u001b[1;33m\u001b[0m\u001b[0m\n\u001b[1;32m---> 11\u001b[1;33m     \u001b[0mdV\u001b[0m\u001b[1;33m=\u001b[0m\u001b[1;33m(\u001b[0m\u001b[1;36m4\u001b[0m\u001b[1;33m*\u001b[0m\u001b[0mpi\u001b[0m\u001b[1;33m/\u001b[0m\u001b[1;36m3\u001b[0m\u001b[1;33m)\u001b[0m\u001b[1;33m*\u001b[0m\u001b[0mpow\u001b[0m\u001b[1;33m(\u001b[0m\u001b[0ma\u001b[0m\u001b[1;33m,\u001b[0m\u001b[1;36m4\u001b[0m\u001b[1;33m)\u001b[0m \u001b[1;33m*\u001b[0m \u001b[0mpow\u001b[0m\u001b[1;33m(\u001b[0m\u001b[0mCSTCalctau\u001b[0m\u001b[1;33m(\u001b[0m\u001b[0mb\u001b[0m\u001b[1;33m)\u001b[0m \u001b[1;33m-\u001b[0m \u001b[0mCSTCalctau\u001b[0m\u001b[1;33m(\u001b[0m\u001b[0ma\u001b[0m\u001b[1;33m)\u001b[0m\u001b[1;33m,\u001b[0m\u001b[1;36m3\u001b[0m\u001b[1;33m)\u001b[0m \u001b[1;33m*\u001b[0m \u001b[0mCSTdtauda\u001b[0m\u001b[1;33m(\u001b[0m\u001b[0ma\u001b[0m\u001b[1;33m)\u001b[0m\u001b[1;31m#if integrated on [0,b], with da, gives V(b)\u001b[0m\u001b[1;33m\u001b[0m\u001b[1;33m\u001b[0m\u001b[0m\n\u001b[0m\u001b[0;32m     12\u001b[0m     \u001b[1;32mreturn\u001b[0m \u001b[0mdV\u001b[0m\u001b[1;33m\u001b[0m\u001b[1;33m\u001b[0m\u001b[0m\n",
      "\u001b[1;32m<ipython-input-29-57157725765b>\u001b[0m in \u001b[0;36mCSTCalctau\u001b[1;34m(a)\u001b[0m\n\u001b[0;32m     21\u001b[0m         \u001b[0mi\u001b[0m\u001b[1;33m=\u001b[0m\u001b[1;36m1\u001b[0m    \u001b[1;31m#if i=0, then i-1 would bring the 10000th element of tau_CST_Store. so instead let's put i=1.\u001b[0m\u001b[1;33m\u001b[0m\u001b[1;33m\u001b[0m\u001b[0m\n\u001b[0;32m     22\u001b[0m     \u001b[1;31m#return tau_CST_Store[i-1] + rombint(CSTdtauda, a_CST_Store[i-1], a, toler);\u001b[0m\u001b[1;33m\u001b[0m\u001b[1;33m\u001b[0m\u001b[1;33m\u001b[0m\u001b[0m\n\u001b[1;32m---> 23\u001b[1;33m     \u001b[1;32mreturn\u001b[0m \u001b[0mtau_CST_Store\u001b[0m\u001b[1;33m[\u001b[0m\u001b[0mi\u001b[0m\u001b[1;33m-\u001b[0m\u001b[1;36m1\u001b[0m\u001b[1;33m]\u001b[0m \u001b[1;33m+\u001b[0m \u001b[0mintegrate\u001b[0m\u001b[1;33m.\u001b[0m\u001b[0mquad\u001b[0m\u001b[1;33m(\u001b[0m\u001b[0mCSTdtauda\u001b[0m\u001b[1;33m,\u001b[0m \u001b[0ma_CST_Store\u001b[0m\u001b[1;33m[\u001b[0m\u001b[0mi\u001b[0m\u001b[1;33m-\u001b[0m\u001b[1;36m1\u001b[0m\u001b[1;33m]\u001b[0m\u001b[1;33m,\u001b[0m \u001b[0ma\u001b[0m\u001b[1;33m)\u001b[0m\u001b[1;33m[\u001b[0m\u001b[1;36m0\u001b[0m\u001b[1;33m]\u001b[0m\u001b[1;33m;\u001b[0m\u001b[1;33m\u001b[0m\u001b[1;33m\u001b[0m\u001b[0m\n\u001b[0m\u001b[0;32m     24\u001b[0m \u001b[1;33m\u001b[0m\u001b[0m\n\u001b[0;32m     25\u001b[0m \u001b[1;32mdef\u001b[0m \u001b[0mFAST_CSTCalctau\u001b[0m\u001b[1;33m(\u001b[0m\u001b[0ma\u001b[0m\u001b[1;33m)\u001b[0m\u001b[1;33m:\u001b[0m \u001b[1;31m#wants to calculate \\eta(a), this doesn't return anything. only is here to rewrite tau_CST_Store\u001b[0m\u001b[1;33m\u001b[0m\u001b[1;33m\u001b[0m\u001b[0m\n",
      "\u001b[1;32mE:\\Anaconda\\lib\\site-packages\\scipy\\integrate\\quadpack.py\u001b[0m in \u001b[0;36mquad\u001b[1;34m(func, a, b, args, full_output, epsabs, epsrel, limit, points, weight, wvar, wopts, maxp1, limlst)\u001b[0m\n\u001b[0;32m    339\u001b[0m     \u001b[1;32mif\u001b[0m \u001b[0mweight\u001b[0m \u001b[1;32mis\u001b[0m \u001b[1;32mNone\u001b[0m\u001b[1;33m:\u001b[0m\u001b[1;33m\u001b[0m\u001b[1;33m\u001b[0m\u001b[0m\n\u001b[0;32m    340\u001b[0m         retval = _quad(func, a, b, args, full_output, epsabs, epsrel, limit,\n\u001b[1;32m--> 341\u001b[1;33m                        points)\n\u001b[0m\u001b[0;32m    342\u001b[0m     \u001b[1;32melse\u001b[0m\u001b[1;33m:\u001b[0m\u001b[1;33m\u001b[0m\u001b[1;33m\u001b[0m\u001b[0m\n\u001b[0;32m    343\u001b[0m         retval = _quad_weight(func, a, b, args, full_output, epsabs, epsrel,\n",
      "\u001b[1;32mE:\\Anaconda\\lib\\site-packages\\scipy\\integrate\\quadpack.py\u001b[0m in \u001b[0;36m_quad\u001b[1;34m(func, a, b, args, full_output, epsabs, epsrel, limit, points)\u001b[0m\n\u001b[0;32m    446\u001b[0m     \u001b[1;32mif\u001b[0m \u001b[0mpoints\u001b[0m \u001b[1;32mis\u001b[0m \u001b[1;32mNone\u001b[0m\u001b[1;33m:\u001b[0m\u001b[1;33m\u001b[0m\u001b[1;33m\u001b[0m\u001b[0m\n\u001b[0;32m    447\u001b[0m         \u001b[1;32mif\u001b[0m \u001b[0minfbounds\u001b[0m \u001b[1;33m==\u001b[0m \u001b[1;36m0\u001b[0m\u001b[1;33m:\u001b[0m\u001b[1;33m\u001b[0m\u001b[1;33m\u001b[0m\u001b[0m\n\u001b[1;32m--> 448\u001b[1;33m             \u001b[1;32mreturn\u001b[0m \u001b[0m_quadpack\u001b[0m\u001b[1;33m.\u001b[0m\u001b[0m_qagse\u001b[0m\u001b[1;33m(\u001b[0m\u001b[0mfunc\u001b[0m\u001b[1;33m,\u001b[0m\u001b[0ma\u001b[0m\u001b[1;33m,\u001b[0m\u001b[0mb\u001b[0m\u001b[1;33m,\u001b[0m\u001b[0margs\u001b[0m\u001b[1;33m,\u001b[0m\u001b[0mfull_output\u001b[0m\u001b[1;33m,\u001b[0m\u001b[0mepsabs\u001b[0m\u001b[1;33m,\u001b[0m\u001b[0mepsrel\u001b[0m\u001b[1;33m,\u001b[0m\u001b[0mlimit\u001b[0m\u001b[1;33m)\u001b[0m\u001b[1;33m\u001b[0m\u001b[1;33m\u001b[0m\u001b[0m\n\u001b[0m\u001b[0;32m    449\u001b[0m         \u001b[1;32melse\u001b[0m\u001b[1;33m:\u001b[0m\u001b[1;33m\u001b[0m\u001b[1;33m\u001b[0m\u001b[0m\n\u001b[0;32m    450\u001b[0m             \u001b[1;32mreturn\u001b[0m \u001b[0m_quadpack\u001b[0m\u001b[1;33m.\u001b[0m\u001b[0m_qagie\u001b[0m\u001b[1;33m(\u001b[0m\u001b[0mfunc\u001b[0m\u001b[1;33m,\u001b[0m\u001b[0mbound\u001b[0m\u001b[1;33m,\u001b[0m\u001b[0minfbounds\u001b[0m\u001b[1;33m,\u001b[0m\u001b[0margs\u001b[0m\u001b[1;33m,\u001b[0m\u001b[0mfull_output\u001b[0m\u001b[1;33m,\u001b[0m\u001b[0mepsabs\u001b[0m\u001b[1;33m,\u001b[0m\u001b[0mepsrel\u001b[0m\u001b[1;33m,\u001b[0m\u001b[0mlimit\u001b[0m\u001b[1;33m)\u001b[0m\u001b[1;33m\u001b[0m\u001b[1;33m\u001b[0m\u001b[0m\n",
      "\u001b[1;32m<ipython-input-10-4a8229354159>\u001b[0m in \u001b[0;36mCSTdtauda\u001b[1;34m(a)\u001b[0m\n\u001b[0;32m      1\u001b[0m \u001b[1;32mdef\u001b[0m \u001b[0mCSTdtauda\u001b[0m\u001b[1;33m(\u001b[0m\u001b[0ma\u001b[0m\u001b[1;33m)\u001b[0m\u001b[1;33m:\u001b[0m\u001b[1;31m#returns 1/(a^2H)=1/(a.da\\dt)=d\\eta/da\u001b[0m\u001b[1;33m\u001b[0m\u001b[1;33m\u001b[0m\u001b[0m\n\u001b[1;32m----> 2\u001b[1;33m     \u001b[0mgrho2\u001b[0m \u001b[1;33m=\u001b[0m \u001b[0mgrhom\u001b[0m\u001b[1;33m*\u001b[0m \u001b[1;33m(\u001b[0m\u001b[0momegac\u001b[0m \u001b[1;33m+\u001b[0m \u001b[0momegab\u001b[0m\u001b[1;33m)\u001b[0m \u001b[1;33m*\u001b[0m \u001b[0ma\u001b[0m \u001b[1;33m+\u001b[0m \u001b[0mgrhog\u001b[0m \u001b[1;33m+\u001b[0m \u001b[0mgrhom\u001b[0m \u001b[1;33m*\u001b[0m \u001b[0momegaDyn\u001b[0m\u001b[1;33m(\u001b[0m\u001b[0ma\u001b[0m\u001b[1;33m)\u001b[0m\u001b[1;33m;\u001b[0m\u001b[1;31m#this is RHS of 3a^4H^2 using Friedmann eq:\u001b[0m\u001b[1;33m\u001b[0m\u001b[1;33m\u001b[0m\u001b[0m\n\u001b[0m\u001b[0;32m      3\u001b[0m         \u001b[1;31m#3a^4H^2=3a^4H0^2* (H/H0)^2=3H0^2\\Omega_m^{(0)}a+3H0^2\\Omega_r^{(0)}+3H0^2\\Omega_L a^4\u001b[0m\u001b[1;33m\u001b[0m\u001b[1;33m\u001b[0m\u001b[1;33m\u001b[0m\u001b[0m\n\u001b[0;32m      4\u001b[0m     \u001b[1;32mif\u001b[0m \u001b[1;33m(\u001b[0m\u001b[0mgrho2\u001b[0m\u001b[1;33m<\u001b[0m\u001b[1;36m0\u001b[0m\u001b[1;33m)\u001b[0m\u001b[1;33m:\u001b[0m\u001b[1;33m\u001b[0m\u001b[1;33m\u001b[0m\u001b[0m\n\u001b[0;32m      5\u001b[0m         \u001b[0mprint\u001b[0m\u001b[1;33m(\u001b[0m\u001b[1;34m'Warning!!! Negative H^2 encountered'\u001b[0m\u001b[1;33m)\u001b[0m\u001b[1;33m\u001b[0m\u001b[1;33m\u001b[0m\u001b[0m\n",
      "\u001b[1;31mKeyboardInterrupt\u001b[0m: "
     ]
    }
   ],
   "source": [
    "main()"
   ]
  },
  {
   "cell_type": "code",
   "execution_count": null,
   "metadata": {},
   "outputs": [],
   "source": []
  },
  {
   "cell_type": "code",
   "execution_count": 69,
   "metadata": {},
   "outputs": [
    {
     "data": {
      "text/plain": [
       "<matplotlib.collections.PathCollection at 0xd0aa959da0>"
      ]
     },
     "execution_count": 69,
     "metadata": {},
     "output_type": "execute_result"
    },
    {
     "data": {
      "image/png": "[encoded data removed]",
      "text/plain": [
       "<Figure size 432x288 with 1 Axes>"
      ]
     },
     "metadata": {
      "needs_background": "light"
     },
     "output_type": "display_data"
    }
   ],
   "source": [
    "#plt.scatter(time_CST_Store[1000:5000],omegav_CST_Store[1000:5000])\n",
    "plt.scatter(time_CST_Store[100:10000],OMEGA_L[100:10000],s=2)"
   ]
  },
  {
   "cell_type": "code",
   "execution_count": null,
   "metadata": {},
   "outputs": [],
   "source": []
  },
  {
   "cell_type": "code",
   "execution_count": null,
   "metadata": {},
   "outputs": [],
   "source": []
  },
  {
   "cell_type": "code",
   "execution_count": null,
   "metadata": {},
   "outputs": [],
   "source": []
  },
  {
   "cell_type": "code",
   "execution_count": null,
   "metadata": {},
   "outputs": [],
   "source": []
  },
  {
   "cell_type": "code",
   "execution_count": null,
   "metadata": {},
   "outputs": [],
   "source": []
  },
  {
   "cell_type": "code",
   "execution_count": null,
   "metadata": {},
   "outputs": [],
   "source": []
  },
  {
   "cell_type": "code",
   "execution_count": null,
   "metadata": {},
   "outputs": [],
   "source": []
  },
  {
   "cell_type": "code",
   "execution_count": null,
   "metadata": {},
   "outputs": [],
   "source": []
  },
  {
   "cell_type": "code",
   "execution_count": null,
   "metadata": {},
   "outputs": [],
   "source": []
  },
  {
   "cell_type": "code",
   "execution_count": 543,
   "metadata": {},
   "outputs": [
    {
     "name": "stdout",
     "output_type": "stream",
     "text": [
      "0.07554105525826661\n",
      "3151.319772065965\n"
     ]
    }
   ],
   "source": [
    "print (OMEGA_L[7145])\n",
    "print (time_CST_Store[7146])"
   ]
  },
  {
   "cell_type": "code",
   "execution_count": 638,
   "metadata": {},
   "outputs": [
    {
     "data": {
      "text/plain": [
       "322.9959236835811"
      ]
     },
     "execution_count": 638,
     "metadata": {},
     "output_type": "execute_result"
    }
   ],
   "source": [
    "CSTCalctau(10/10000)"
   ]
  },
  {
   "cell_type": "code",
   "execution_count": 649,
   "metadata": {},
   "outputs": [
    {
     "data": {
      "text/plain": [
       "0.0038576258940154757"
      ]
     },
     "execution_count": 649,
     "metadata": {},
     "output_type": "execute_result"
    }
   ],
   "source": [
    "CSTCalcVolume(0.000078965014,14/10000)"
   ]
  },
  {
   "cell_type": "code",
   "execution_count": 43,
   "metadata": {},
   "outputs": [
    {
     "data": {
      "image/png": "[encoded data removed]",
      "text/plain": [
       "<Figure size 432x288 with 1 Axes>"
      ]
     },
     "metadata": {
      "needs_background": "light"
     },
     "output_type": "display_data"
    }
   ],
   "source": [
    "b=13/10000\n",
    "xx = np.linspace(0.0, b, 1000)\n",
    "yy=np.zeros(1000)\n",
    "for i in range (1000):\n",
    "    yy[i]=CSTCalcVolume(xx[i],b)\n",
    "plt.plot(xx,yy)\n",
    "\n",
    "b=12/10000\n",
    "xx = np.linspace(0.0, b, 1000)\n",
    "yy=np.zeros(1000)\n",
    "for i in range (1000):\n",
    "    yy[i]=CSTCalcVolume(xx[i],b)\n",
    "plt.plot(xx,yy,'r')\n",
    "plt.show()\n",
    "\n"
   ]
  },
  {
   "cell_type": "code",
   "execution_count": 621,
   "metadata": {},
   "outputs": [
    {
     "data": {
      "text/plain": [
       "-3.5532025117746002e-06"
      ]
     },
     "execution_count": 621,
     "metadata": {},
     "output_type": "execute_result"
    }
   ],
   "source": [
    "def gg(x):\n",
    "    return np.exp(-x)\n",
    "rombint(gg,0,100,1.0e-5)-(1-np.exp(-100))"
   ]
  },
  {
   "cell_type": "code",
   "execution_count": 707,
   "metadata": {},
   "outputs": [
    {
     "data": {
      "text/plain": [
       "mpf('4.0')"
      ]
     },
     "execution_count": 707,
     "metadata": {},
     "output_type": "execute_result"
    }
   ],
   "source": [
    "f = lambda x, y: cos(x+y/2)\n",
    "quad(f, [-pi/2, pi/2], [0, pi])"
   ]
  },
  {
   "cell_type": "code",
   "execution_count": 737,
   "metadata": {},
   "outputs": [
    {
     "data": {
      "text/plain": [
       "array([0.00000000e+00, 4.14293061e-10, 6.56224667e-09, 3.28898184e-08,\n",
       "       1.02915074e-07, 2.48771141e-07, 5.10768419e-07, 9.36975140e-07,\n",
       "       1.58281542e-06, 2.51068400e-06, 3.78957687e-06, 5.49473713e-06,\n",
       "       7.70731530e-06, 1.05140435e-05, 1.40069228e-05, 1.82829234e-05,\n",
       "       2.34436964e-05, 2.95952981e-05, 3.68479239e-05, 4.53156544e-05,\n",
       "       5.51162102e-05, 6.63707173e-05, 7.92034815e-05, 9.37417715e-05,\n",
       "       1.10115611e-04, 1.28457578e-04, 1.48902613e-04, 1.71587836e-04,\n",
       "       1.96652365e-04, 2.24237150e-04, 2.54484804e-04, 2.87539451e-04,\n",
       "       3.23546571e-04, 3.62652855e-04, 4.05006064e-04, 4.50754899e-04,\n",
       "       5.00048866e-04, 5.53038154e-04, 6.09873518e-04, 6.70706160e-04,\n",
       "       7.35687620e-04, 8.04969673e-04, 8.78704223e-04, 9.57043207e-04,\n",
       "       1.04013850e-03, 1.12814183e-03, 1.22120467e-03, 1.31947820e-03,\n",
       "       1.42311316e-03, 1.53225985e-03, 1.64706798e-03, 1.76768667e-03,\n",
       "       1.89426433e-03, 2.02694860e-03, 2.16588632e-03, 2.31122345e-03,\n",
       "       2.46310499e-03, 2.62167497e-03, 2.78707637e-03, 2.95945106e-03,\n",
       "       3.13893978e-03, 3.32568205e-03, 3.51981619e-03, 3.72147922e-03,\n",
       "       3.93080684e-03, 4.14793339e-03, 4.37299182e-03, 4.60611364e-03,\n",
       "       4.84742891e-03, 5.09706616e-03, 5.35515243e-03, 5.62181317e-03,\n",
       "       5.89717226e-03, 6.18135196e-03, 6.47447290e-03, 6.77665403e-03,\n",
       "       7.08801264e-03, 6.70085571e-03, 6.97351200e-03, 7.25142228e-03,\n",
       "       7.53508156e-03, 7.82443709e-03, 8.11943258e-03, 8.42000843e-03,\n",
       "       8.72610203e-03, 9.03764761e-03, 9.35457770e-03, 9.67682101e-03,\n",
       "       1.00043050e-02, 1.03369549e-02, 1.06746941e-02, 1.10174445e-02,\n",
       "       1.13651268e-02, 1.17176603e-02, 1.20749636e-02, 1.24369545e-02,\n",
       "       1.28035503e-02, 1.31746679e-02, 1.35502242e-02, 1.39301360e-02,\n",
       "       1.43143203e-02, 1.47026941e-02, 1.50951764e-02, 1.54916846e-02,\n",
       "       1.58921384e-02, 1.62964580e-02, 1.67045647e-02, 1.71163807e-02,\n",
       "       1.75318297e-02, 1.79508367e-02, 1.83733280e-02, 1.87992312e-02,\n",
       "       1.92284760e-02, 1.96609932e-02, 2.00967153e-02, 2.05355769e-02,\n",
       "       2.09775140e-02, 2.14224643e-02, 2.18703676e-02, 2.23211653e-02,\n",
       "       2.27748007e-02, 2.32312189e-02, 2.36903669e-02, 2.41521935e-02,\n",
       "       2.46166493e-02, 2.50836868e-02, 2.55532601e-02, 2.60253253e-02,\n",
       "       2.64998401e-02, 2.69767641e-02, 2.74560585e-02, 2.79376862e-02,\n",
       "       2.84216117e-02, 2.89078012e-02, 2.93962224e-02, 2.98868445e-02,\n",
       "       3.03796384e-02, 3.08745763e-02, 3.13716319e-02, 3.18707802e-02,\n",
       "       3.23719976e-02, 3.28752618e-02, 3.33805518e-02, 3.38878479e-02,\n",
       "       3.43971313e-02, 3.49083846e-02, 3.54215914e-02, 3.59367365e-02,\n",
       "       3.64538055e-02, 3.69727851e-02, 3.74936631e-02, 3.80164279e-02,\n",
       "       3.85410690e-02, 3.90675767e-02, 8.32992787e-02, 8.50685761e-02,\n",
       "       8.68650788e-02, 8.86891769e-02, 9.05412812e-02, 9.24218108e-02,\n",
       "       9.43312012e-02, 9.62699024e-02, 9.82383804e-02, 1.00237118e-01,\n",
       "       1.02266617e-01, 1.04327395e-01, 1.06419991e-01, 1.08544966e-01,\n",
       "       1.10702899e-01, 1.12894400e-01, 1.15120093e-01, 1.17380635e-01,\n",
       "       1.19676708e-01, 1.22009024e-01, 1.24378325e-01, 1.26785385e-01,\n",
       "       1.29231015e-01, 1.31716059e-01, 1.34241403e-01, 1.36807973e-01,\n",
       "       1.39416739e-01, 1.42068718e-01, 1.44764981e-01, 1.47506642e-01,\n",
       "       1.50294885e-01, 1.53130945e-01, 1.56016128e-01, 1.58951806e-01,\n",
       "       1.61939429e-01, 1.64980523e-01, 1.68076706e-01, 1.71229459e-01,\n",
       "       1.74441264e-01, 1.77713362e-01, 1.81048009e-01, 1.84447363e-01,\n",
       "       1.87913717e-01, 1.91449510e-01, 1.95057344e-01, 1.98739994e-01,\n",
       "       2.02500424e-01, 2.06341804e-01, 2.10267532e-01, 2.14281253e-01,\n",
       "       2.18386882e-01, 2.22588633e-01, 2.26891049e-01, 2.31299034e-01,\n",
       "       2.35817895e-01, 2.40453382e-01, 2.45211739e-01, 2.50099761e-01,\n",
       "       2.55124859e-01, 2.60295132e-01, 2.65619456e-01, 2.71107577e-01,\n",
       "       2.76770233e-01, 2.82619284e-01, 2.88667867e-01, 2.94930584e-01,\n",
       "       3.01423718e-01, 3.08165494e-01, 3.15176387e-01, 3.22479496e-01,\n",
       "       3.30100997e-01, 3.38070693e-01, 3.46422692e-01, 3.55196244e-01,\n",
       "       3.64436793e-01, 3.74197297e-01, 3.84539915e-01, 1.89910260e-01,\n",
       "       1.91879795e-01, 1.93855644e-01, 1.95837698e-01, 1.97825846e-01,\n",
       "       1.99819979e-01, 2.01819985e-01, 2.03825754e-01, 2.05837173e-01,\n",
       "       2.07854130e-01, 2.09876512e-01, 2.11904205e-01, 2.13937097e-01,\n",
       "       2.15975071e-01, 2.18018016e-01, 2.20065814e-01, 2.22118354e-01,\n",
       "       2.24175510e-01, 2.26237174e-01, 2.28303230e-01, 2.30373556e-01,\n",
       "       2.32448039e-01, 2.34526559e-01, 2.36608998e-01, 2.38695238e-01,\n",
       "       2.40785160e-01, 2.42878645e-01, 2.44975575e-01, 2.47075829e-01,\n",
       "       2.49179287e-01, 2.51285829e-01, 2.53395336e-01, 2.55507685e-01,\n",
       "       2.57622759e-01, 2.59740433e-01, 2.61860920e-01, 2.63983100e-01,\n",
       "       2.66107850e-01, 2.68234716e-01, 2.70363574e-01, 2.72494303e-01,\n",
       "       2.74626781e-01, 2.76760886e-01, 2.78896493e-01, 2.81033482e-01,\n",
       "       2.83171728e-01, 2.85311110e-01, 2.87451504e-01, 2.89592786e-01,\n",
       "       2.91734834e-01, 2.93877524e-01, 2.96020733e-01, 2.98164338e-01,\n",
       "       3.00308215e-01, 3.02452241e-01, 3.04596292e-01, 3.06740244e-01,\n",
       "       3.08883975e-01, 3.11027361e-01, 3.13170278e-01, 3.15312602e-01,\n",
       "       3.17454211e-01, 3.19594981e-01, 3.21734789e-01, 3.23873511e-01,\n",
       "       3.26011025e-01, 3.28147206e-01, 3.30281932e-01, 3.32415081e-01,\n",
       "       3.34546528e-01, 3.36676152e-01, 3.38803830e-01, 3.40929439e-01,\n",
       "       3.43052857e-01, 3.45173962e-01, 3.47292631e-01, 3.49408742e-01,\n",
       "       3.57886249e-01, 3.60067636e-01, 3.62246455e-01, 3.64422578e-01,\n",
       "       3.66595883e-01, 3.68766239e-01, 3.70933518e-01, 3.73097598e-01,\n",
       "       3.75258349e-01, 3.77415646e-01, 3.79569365e-01, 3.81719377e-01,\n",
       "       3.83865556e-01, 3.86007779e-01, 3.88145914e-01, 3.90279841e-01,\n",
       "       3.92409432e-01, 3.94534562e-01, 3.96655106e-01, 3.98770937e-01,\n",
       "       4.00881932e-01, 4.02987966e-01, 4.05088914e-01, 4.07184650e-01,\n",
       "       4.09275051e-01, 4.11359992e-01, 4.13439350e-01, 4.15513000e-01,\n",
       "       4.17580818e-01, 4.19642682e-01, 4.21698470e-01, 4.23747135e-01,\n",
       "       4.25791313e-01, 4.27828134e-01, 4.29858372e-01, 4.31881926e-01,\n",
       "       4.33898667e-01, 4.35908474e-01, 4.37911222e-01, 4.39906794e-01,\n",
       "       4.41895068e-01, 4.43875923e-01, 4.45849238e-01, 4.47814893e-01,\n",
       "       4.49772769e-01, 4.51722746e-01, 4.53664705e-01, 4.55598526e-01,\n",
       "       4.57524091e-01, 4.59441282e-01, 4.61349981e-01, 4.63250069e-01,\n",
       "       4.65141430e-01, 4.67023946e-01, 4.68897500e-01, 4.70761977e-01,\n",
       "       4.72617259e-01, 4.74463232e-01, 4.76299779e-01, 4.78126786e-01,\n",
       "       4.79944138e-01, 4.81751721e-01, 4.83549420e-01, 4.85337122e-01,\n",
       "       4.87114714e-01, 4.88882084e-01, 4.90639117e-01, 4.92385703e-01,\n",
       "       4.94121730e-01, 4.95847087e-01, 4.97561662e-01, 4.99265345e-01,\n",
       "       5.00958026e-01, 5.02639596e-01, 5.04309945e-01, 5.05968965e-01,\n",
       "       5.07616546e-01, 4.77004864e-01, 4.78456514e-01, 4.79897418e-01,\n",
       "       4.81327614e-01, 4.82746993e-01, 4.84155485e-01, 4.85553019e-01,\n",
       "       4.86939529e-01, 4.88314952e-01, 4.89679202e-01, 4.91032231e-01,\n",
       "       4.92373968e-01, 4.93704347e-01, 4.95023317e-01, 4.96330775e-01,\n",
       "       4.97626700e-01, 4.98911015e-01, 5.00183659e-01, 5.01444572e-01,\n",
       "       5.02693695e-01, 5.03930969e-01, 5.05156336e-01, 5.06369739e-01,\n",
       "       5.07571121e-01, 5.08760320e-01, 5.09937603e-01, 5.11102594e-01,\n",
       "       5.12255347e-01, 5.13395808e-01, 5.14523927e-01, 5.15639658e-01,\n",
       "       5.16742944e-01, 5.17833739e-01, 5.18911994e-01, 5.19977661e-01,\n",
       "       5.21030694e-01, 5.22071046e-01, 5.23098676e-01, 5.24113533e-01,\n",
       "       5.25115579e-01, 5.26104770e-01, 5.27081063e-01, 5.28044418e-01,\n",
       "       5.28994794e-01, 5.29932153e-01, 5.30856456e-01, 5.31767664e-01,\n",
       "       5.32665742e-01, 5.33550652e-01, 5.34422361e-01, 5.35280832e-01,\n",
       "       5.36126033e-01, 5.36957932e-01, 5.37776495e-01, 5.38581691e-01,\n",
       "       5.39373492e-01, 5.40151866e-01, 5.40916786e-01, 5.41668222e-01,\n",
       "       5.42406150e-01, 5.43130541e-01, 5.43841372e-01, 5.44538616e-01,\n",
       "       5.45222251e-01, 5.45892254e-01, 5.46548602e-01, 5.47191274e-01,\n",
       "       5.47820250e-01, 5.48435510e-01, 5.49037036e-01, 5.49624808e-01,\n",
       "       5.50198811e-01, 5.50759027e-01, 5.51305441e-01, 5.51838039e-01,\n",
       "       5.52356806e-01, 5.52861729e-01, 5.51117409e-01, 5.51593299e-01,\n",
       "       5.52055463e-01, 5.52503894e-01, 5.52938580e-01, 5.53359518e-01,\n",
       "       5.53766700e-01, 5.54160120e-01, 5.54539775e-01, 5.54905660e-01,\n",
       "       5.55257772e-01, 5.55596109e-01, 5.55920671e-01, 5.56231454e-01,\n",
       "       5.56528461e-01, 5.56811692e-01, 5.57081147e-01, 5.57336837e-01,\n",
       "       5.57578747e-01, 5.57806895e-01, 5.58021285e-01, 5.58221919e-01,\n",
       "       5.58408806e-01, 5.58581949e-01, 5.58741359e-01, 5.58887045e-01,\n",
       "       5.59019014e-01, 5.59137278e-01, 5.59241844e-01, 5.59332729e-01,\n",
       "       5.59409942e-01, 5.59473497e-01, 5.59523531e-01, 5.59559686e-01,\n",
       "       5.59582429e-01, 5.59591416e-01, 5.59586900e-01, 5.59568817e-01,\n",
       "       5.59537188e-01, 5.59492030e-01, 5.59433364e-01, 5.59361210e-01,\n",
       "       5.59275589e-01, 5.59176521e-01, 5.59064030e-01, 5.58938139e-01,\n",
       "       5.58798871e-01, 5.58646250e-01, 5.58480303e-01, 5.58301054e-01,\n",
       "       5.58108530e-01, 5.57902759e-01, 5.57683767e-01, 5.57451585e-01,\n",
       "       5.57206239e-01, 5.56947762e-01, 5.56676182e-01, 5.56391532e-01,\n",
       "       5.56093842e-01, 5.55783146e-01, 5.55459476e-01, 5.55122867e-01,\n",
       "       5.54773352e-01, 5.54410966e-01, 5.54035745e-01, 5.53647726e-01,\n",
       "       5.53246945e-01, 5.52833439e-01, 5.52407247e-01, 5.51968408e-01,\n",
       "       5.51516960e-01, 5.51052943e-01, 5.50576398e-01, 5.50087367e-01,\n",
       "       5.49585890e-01, 5.49072010e-01, 5.45922831e-01, 5.45393865e-01,\n",
       "       5.44851348e-01, 5.44296787e-01, 5.43730226e-01, 5.43151711e-01,\n",
       "       5.42561295e-01, 5.41959013e-01, 5.41344921e-01, 5.40719064e-01,\n",
       "       5.40081491e-01, 5.39432252e-01, 5.38771400e-01, 5.38098970e-01,\n",
       "       5.37415028e-01, 5.36719620e-01, 5.36012800e-01, 5.35294612e-01,\n",
       "       5.34565117e-01, 5.33824364e-01, 5.33072407e-01, 5.32309301e-01,\n",
       "       5.31535097e-01, 5.30749853e-01, 5.29953624e-01, 5.29146464e-01,\n",
       "       5.28328429e-01, 5.27499576e-01, 5.26659966e-01, 5.25809650e-01,\n",
       "       5.24948595e-01, 5.24077142e-01, 5.23195066e-01, 5.22302520e-01,\n",
       "       5.21399564e-01, 5.20486259e-01, 5.19562663e-01, 5.18628839e-01,\n",
       "       5.17684846e-01, 5.16730746e-01, 5.15766602e-01, 5.14792475e-01,\n",
       "       5.13808428e-01, 5.12814523e-01, 5.11810824e-01, 5.10797395e-01,\n",
       "       5.09774299e-01, 5.08741601e-01, 5.07699365e-01, 5.06647657e-01,\n",
       "       5.05586541e-01, 5.04516083e-01, 5.03436348e-01, 5.02347405e-01,\n",
       "       5.01249317e-01, 5.00142153e-01, 4.99025980e-01, 4.97900865e-01,\n",
       "       4.96766875e-01, 4.95624079e-01, 4.94472545e-01, 4.93312341e-01,\n",
       "       4.92143536e-01, 4.90966200e-01, 4.89780400e-01, 4.88586208e-01,\n",
       "       4.87383692e-01, 4.86172923e-01, 4.84953971e-01, 4.83726907e-01,\n",
       "       4.82491800e-01, 4.81248723e-01, 4.79997746e-01, 4.78738940e-01,\n",
       "       4.77472377e-01, 4.76198130e-01, 4.74916269e-01, 4.92246378e-01,\n",
       "       4.90824189e-01, 4.89393510e-01, 4.87954426e-01, 4.86507010e-01,\n",
       "       4.85051347e-01, 4.83587514e-01, 4.82115601e-01, 4.80635665e-01,\n",
       "       4.79147810e-01, 4.77652108e-01, 4.76148642e-01, 4.74637492e-01,\n",
       "       4.73118743e-01, 4.71592473e-01, 4.70058768e-01, 4.68517706e-01,\n",
       "       4.66969376e-01, 4.65413857e-01, 4.63851233e-01, 4.62282583e-01,\n",
       "       4.60704990e-01, 4.59121563e-01, 4.57531357e-01, 4.55934458e-01,\n",
       "       4.54330961e-01, 4.52720946e-01, 4.51104499e-01, 4.49481705e-01,\n",
       "       4.47852646e-01, 4.46217410e-01, 4.44576083e-01, 4.42928749e-01,\n",
       "       4.41275492e-01, 4.39616400e-01, 4.37951558e-01, 4.36281060e-01,\n",
       "       4.34604971e-01, 4.32923397e-01, 4.31236417e-01, 4.29544119e-01,\n",
       "       4.27846589e-01, 4.26143913e-01, 4.24436177e-01, 4.22723470e-01,\n",
       "       4.21005877e-01, 4.19283486e-01, 4.17556383e-01, 4.15824655e-01,\n",
       "       4.14088390e-01, 4.12347674e-01, 4.10602596e-01, 4.08853241e-01,\n",
       "       4.07099697e-01, 4.05342052e-01, 4.03580393e-01, 4.01814807e-01,\n",
       "       4.00045381e-01, 3.98272203e-01, 3.96495360e-01, 3.94714940e-01,\n",
       "       3.92931029e-01, 3.91143715e-01, 3.89353086e-01, 3.87559228e-01,\n",
       "       3.85762230e-01, 3.83962177e-01, 3.82159157e-01, 3.80353258e-01,\n",
       "       3.78544567e-01, 3.76733170e-01, 3.74919154e-01, 3.73102607e-01,\n",
       "       3.71283616e-01, 3.69462266e-01, 3.67638645e-01, 3.65812840e-01,\n",
       "       3.80310360e-01, 3.78296270e-01, 3.76279716e-01, 3.74260778e-01,\n",
       "       3.72239617e-01, 3.70216273e-01, 3.68190866e-01, 3.66163496e-01,\n",
       "       3.64134263e-01, 3.62103269e-01, 3.60070611e-01, 3.58036392e-01,\n",
       "       3.56000709e-01, 3.53963664e-01, 3.51925355e-01, 3.49887969e-01,\n",
       "       3.47845349e-01, 3.45803849e-01, 3.43761488e-01, 3.41718356e-01,\n",
       "       3.39674561e-01, 3.37630197e-01, 3.35585369e-01, 3.33540170e-01,\n",
       "       3.31494637e-01, 3.29449060e-01, 3.27403346e-01, 3.25357658e-01,\n",
       "       3.23312092e-01, 3.21266746e-01, 3.19221724e-01, 3.17177116e-01,\n",
       "       3.15133025e-01, 3.13089545e-01, 3.11046774e-01, 3.09004808e-01,\n",
       "       3.06963746e-01, 3.04923682e-01, 3.02880788e-01, 3.00846942e-01,\n",
       "       2.98810455e-01, 2.96775352e-01, 2.94741728e-01, 2.92709678e-01,\n",
       "       2.90679298e-01, 2.88650682e-01, 2.86623924e-01, 2.84599120e-01,\n",
       "       2.82576362e-01, 2.80555745e-01, 2.78537361e-01, 2.76521305e-01,\n",
       "       2.74507669e-01, 2.72496545e-01, 2.70488026e-01, 2.68482203e-01,\n",
       "       2.66479169e-01, 2.64479014e-01, 2.62481831e-01, 2.60487708e-01,\n",
       "       2.58496737e-01, 2.56509007e-01, 2.54524609e-01, 2.52543632e-01,\n",
       "       2.50566163e-01, 2.48592293e-01, 2.46622110e-01, 2.44655700e-01,\n",
       "       2.42693152e-01, 2.40734553e-01, 2.38779989e-01, 2.36829546e-01,\n",
       "       2.34883312e-01, 2.32941370e-01, 2.31003807e-01, 2.29070706e-01,\n",
       "       2.27142152e-01, 2.39802405e-01, 2.37614190e-01, 2.35431359e-01,\n",
       "       2.33254018e-01, 2.31082271e-01, 2.28916235e-01, 2.26756008e-01,\n",
       "       2.24601700e-01, 2.22453415e-01, 2.20311261e-01, 2.18175342e-01,\n",
       "       2.16045764e-01, 2.13922630e-01, 2.11806044e-01, 2.09696109e-01,\n",
       "       2.07592929e-01, 2.05496903e-01, 2.03407236e-01, 2.01324929e-01,\n",
       "       1.99249780e-01, 1.97181892e-01, 1.95121361e-01, 1.93068288e-01,\n",
       "       1.91022772e-01, 1.88984906e-01, 1.86954796e-01, 1.84932531e-01,\n",
       "       1.82918209e-01, 1.80911364e-01, 1.78913772e-01, 1.76923848e-01,\n",
       "       1.74942241e-01, 1.72969048e-01, 1.71004355e-01, 1.69048267e-01,\n",
       "       1.67100861e-01, 1.65162228e-01, 1.63232462e-01, 1.61311649e-01,\n",
       "       1.59399877e-01, 1.57497233e-01, 1.55603803e-01, 1.53719672e-01,\n",
       "       1.51844926e-01, 1.49979648e-01, 1.48123920e-01, 1.46277827e-01,\n",
       "       1.44441448e-01, 1.42614865e-01, 1.40798157e-01, 1.38991404e-01,\n",
       "       1.37194684e-01, 1.35408073e-01, 1.33631649e-01, 1.31865487e-01,\n",
       "       1.30109662e-01, 1.28364248e-01, 1.26629317e-01, 1.24904942e-01,\n",
       "       1.23191194e-01, 1.21488143e-01, 1.19795858e-01, 1.18114407e-01,\n",
       "       1.16443859e-01, 1.14784279e-01, 1.13135732e-01, 1.11498284e-01,\n",
       "       1.09871997e-01, 1.08256934e-01, 1.06653157e-01, 1.05060726e-01,\n",
       "       1.03479700e-01, 1.01910138e-01, 1.00352097e-01, 9.88056324e-02,\n",
       "       9.72708005e-02, 9.57476549e-02, 9.72082337e-02, 9.56101854e-02,\n",
       "       9.40249953e-02, 9.24527216e-02, 9.08934237e-02, 8.93471580e-02,\n",
       "       8.78139830e-02, 8.62939528e-02, 8.47871208e-02, 8.32935399e-02,\n",
       "       8.18132625e-02, 8.03463338e-02, 7.88928062e-02, 7.74527266e-02,\n",
       "       7.60261390e-02, 7.46130882e-02, 7.32136168e-02, 7.18277662e-02,\n",
       "       7.04555762e-02, 6.90970852e-02, 6.77523303e-02, 6.64213465e-02,\n",
       "       6.51041679e-02, 6.38008267e-02, 6.25113542e-02, 6.12357792e-02,\n",
       "       5.99740730e-02, 5.87264315e-02, 5.74927091e-02, 5.62729864e-02,\n",
       "       5.50672832e-02, 5.38756170e-02, 5.26980152e-02, 5.15344843e-02,\n",
       "       5.03850391e-02, 4.92497018e-02, 4.81284746e-02, 4.70213697e-02,\n",
       "       4.59283950e-02, 4.48495565e-02, 4.37848582e-02, 4.27343027e-02,\n",
       "       4.16978905e-02, 4.06756203e-02, 3.96674891e-02, 3.86734918e-02,\n",
       "       3.76936218e-02, 3.67278702e-02, 3.57762264e-02, 3.48386779e-02,\n",
       "       3.39152102e-02, 3.30058068e-02, 3.21104494e-02, 3.12291175e-02,\n",
       "       3.03617887e-02, 2.95084386e-02, 2.86690407e-02, 2.78435665e-02,\n",
       "       2.70319854e-02, 2.62342647e-02, 2.54503696e-02, 2.46802632e-02,\n",
       "       2.39239065e-02, 2.31812582e-02, 2.24522749e-02, 2.17369111e-02,\n",
       "       2.10351190e-02, 2.03468486e-02, 1.96720475e-02, 1.90106614e-02,\n",
       "       1.83626333e-02, 1.77279042e-02, 1.71064127e-02, 1.64980950e-02,\n",
       "       1.59028851e-02, 1.53207144e-02, 1.47515121e-02, 1.34225849e-02,\n",
       "       1.29380542e-02, 1.24643141e-02, 1.20012952e-02, 1.15489261e-02,\n",
       "       1.11071340e-02, 1.06758437e-02, 1.02549789e-02, 9.84446021e-03,\n",
       "       9.44420804e-03, 9.05413987e-03, 8.67417166e-03, 8.30422683e-03,\n",
       "       7.94418914e-03, 7.59399732e-03, 7.25355022e-03, 6.92275443e-03,\n",
       "       6.60151453e-03, 6.28973298e-03, 5.98731091e-03, 5.69414673e-03,\n",
       "       5.41013379e-03, 5.13517788e-03, 4.86916111e-03, 4.61197786e-03,\n",
       "       4.36351737e-03, 4.12366645e-03, 3.89231035e-03, 3.66933146e-03,\n",
       "       3.45461136e-03, 3.24807032e-03, 3.04946048e-03, 2.85878153e-03,\n",
       "       2.67586456e-03, 2.50058053e-03, 2.33279782e-03, 2.17238326e-03,\n",
       "       2.01920138e-03, 1.87311445e-03, 1.73398283e-03, 1.60166471e-03,\n",
       "       1.47601617e-03, 1.35689113e-03, 1.24414140e-03, 1.13761662e-03,\n",
       "       1.03716428e-03, 9.42629692e-04, 8.53856008e-04, 7.70684183e-04,\n",
       "       6.92952983e-04, 6.20498969e-04, 5.53156492e-04, 4.90757682e-04,\n",
       "       4.33132440e-04, 3.80108430e-04, 3.31511069e-04, 2.87163518e-04,\n",
       "       2.46886675e-04, 2.10499165e-04, 1.77817331e-04, 1.48655226e-04,\n",
       "       1.22824605e-04, 1.00134914e-04, 8.03932820e-05, 6.34045147e-05,\n",
       "       4.89710829e-05, 3.68931152e-05, 2.69683890e-05, 1.89923217e-05,\n",
       "       1.27579623e-05, 8.05598267e-06, 4.67466878e-06, 2.39991219e-06,\n",
       "       1.01520132e-06, 3.01612908e-07, 3.78033212e-08, 0.00000000e+00])"
      ]
     },
     "execution_count": 737,
     "metadata": {},
     "output_type": "execute_result"
    }
   ],
   "source": [
    "y_temp"
   ]
  },
  {
   "cell_type": "code",
   "execution_count": 45,
   "metadata": {},
   "outputs": [
    {
     "name": "stdout",
     "output_type": "stream",
     "text": [
      "0.00038467717265784385\n",
      "--- 1.5634188652038574 seconds ---\n"
     ]
    }
   ],
   "source": [
    "start_time = time.time()\n",
    "b=13/10000\n",
    "print(rombint2D(CSTCalcVolume, 0.0, b, 1.0e-4))\n",
    "print(\"--- %s seconds ---\" % (time.time() - start_time))"
   ]
  },
  {
   "cell_type": "code",
   "execution_count": 734,
   "metadata": {},
   "outputs": [
    {
     "data": {
      "text/plain": [
       "mpf('0.5459645939283656')"
      ]
     },
     "execution_count": 734,
     "metadata": {},
     "output_type": "execute_result"
    }
   ],
   "source": [
    "f_temp(7/10000)"
   ]
  },
  {
   "cell_type": "code",
   "execution_count": 55,
   "metadata": {},
   "outputs": [
    {
     "name": "stdout",
     "output_type": "stream",
     "text": [
      "0.00038466846075338955\n",
      "--- 0.7707359790802002 seconds ---\n"
     ]
    }
   ],
   "source": [
    "start_time = time.time()\n",
    "b=13/N_CST_Store\n",
    "N=int(b*N_CST_Store)\n",
    "I=0.0\n",
    "for i in range (N):\n",
    "    I+=integrate.quad(CSTCalcVolume, i/(N_CST_Store), (i+1)/(N_CST_Store), args=(b))[0]\n",
    "print(I)\n",
    "print(\"--- %s seconds ---\" % (time.time() - start_time))"
   ]
  },
  {
   "cell_type": "code",
   "execution_count": 32,
   "metadata": {},
   "outputs": [
    {
     "name": "stdout",
     "output_type": "stream",
     "text": [
      "552934724.034107\n",
      "--- 0.08107209205627441 seconds ---\n"
     ]
    }
   ],
   "source": [
    "start_time = time.time()\n",
    "N=100\n",
    "b=1300/10000\n",
    "f_temp=lambda a: CSTCalcVolume(a,b)\n",
    "x_temp = np.linspace(0.0,b,N)\n",
    "y_temp = np.linspace(0.0,b,N)\n",
    "for i in range (N):\n",
    "    y_temp[i]=f_temp(x_temp[i])\n",
    "print(np.trapz(y_temp, x_temp))\n",
    "print(\"--- %s seconds ---\" % (time.time() - start_time))"
   ]
  },
  {
   "cell_type": "code",
   "execution_count": 761,
   "metadata": {},
   "outputs": [
    {
     "data": {
      "text/plain": [
       "0.0013"
      ]
     },
     "execution_count": 761,
     "metadata": {},
     "output_type": "execute_result"
    }
   ],
   "source": [
    "x_temp[N-1]"
   ]
  },
  {
   "cell_type": "code",
   "execution_count": 762,
   "metadata": {},
   "outputs": [
    {
     "data": {
      "image/png": "[encoded data removed]",
      "text/plain": [
       "<Figure size 432x288 with 1 Axes>"
      ]
     },
     "metadata": {
      "needs_background": "light"
     },
     "output_type": "display_data"
    }
   ],
   "source": [
    "plt.plot(x_temp,y_temp)\n",
    "plt.show()"
   ]
  },
  {
   "cell_type": "code",
   "execution_count": 582,
   "metadata": {},
   "outputs": [
    {
     "data": {
      "text/plain": [
       "4.666977301664136"
      ]
     },
     "execution_count": 582,
     "metadata": {},
     "output_type": "execute_result"
    }
   ],
   "source": [
    "b=7146/10000\n",
    "integrate.quad(CSTCalcVolume, 0.0, b, args=(b))[0]"
   ]
  },
  {
   "cell_type": "code",
   "execution_count": 576,
   "metadata": {},
   "outputs": [
    {
     "data": {
      "text/plain": [
       "nan"
      ]
     },
     "execution_count": 576,
     "metadata": {},
     "output_type": "execute_result"
    }
   ],
   "source": [
    "b=7147/10000\n",
    "integrate.quad(CSTCalcVolume, 0.0, b, args=(b))[0]"
   ]
  },
  {
   "cell_type": "code",
   "execution_count": 437,
   "metadata": {},
   "outputs": [
    {
     "data": {
      "text/plain": [
       "(3.0, 3.3306690738754696e-14)"
      ]
     },
     "execution_count": 437,
     "metadata": {},
     "output_type": "execute_result"
    }
   ],
   "source": [
    "def integrand(a, x, b):\n",
    "    return a*x**2 + b\n",
    "\n",
    "aa = 2\n",
    "bb = 1\n",
    "II = integrate.quad(integrand, 0, 1, args=(aa,bb))\n",
    "II"
   ]
  },
  {
   "cell_type": "code",
   "execution_count": 513,
   "metadata": {},
   "outputs": [
    {
     "data": {
      "text/plain": [
       "1.3333333333333333"
      ]
     },
     "execution_count": 513,
     "metadata": {},
     "output_type": "execute_result"
    }
   ],
   "source": [
    "8/2/3"
   ]
  },
  {
   "cell_type": "code",
   "execution_count": null,
   "metadata": {},
   "outputs": [],
   "source": []
  }
 ],
 "metadata": {
  "kernelspec": {
   "display_name": "Python 3",
   "language": "python",
   "name": "python3"
  },
  "language_info": {
   "codemirror_mode": {
    "name": "ipython",
    "version": 3
   },
   "file_extension": ".py",
   "mimetype": "text/x-python",
   "name": "python",
   "nbconvert_exporter": "python",
   "pygments_lexer": "ipython3",
   "version": "3.7.1"
  }
 },
 "nbformat": 4,
 "nbformat_minor": 2
}
